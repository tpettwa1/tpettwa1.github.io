{
 "cells": [
  {
   "cell_type": "markdown",
   "metadata": {},
   "source": [
    "<h1 style=\"text-align: center;\">Climate Change and Its Consequences</h1>"
   ]
  },
  {
   "cell_type": "markdown",
   "metadata": {},
   "source": [
    "## Introduction\n",
    "\n",
    "Climate change, in the broadest sense, refers to long term changes in weather and temperature patterns. Throughout almost all of Earth’s history, changes in Earth’s climate are attributed to a variety of natural factors. Some of these factors include changes in solar irradiance caused by the Earth’s orbit, the Sun’s 11 year solar cycle, and volcanic eruptions. These factors contribute to a natural cycle of global warming and cooling which occur in different intensities spanning multiple millenia.\n",
    "\n",
    "Since the 1800s, however, the Earth has experienced a global warming event which is occurring at an unprecedented rate, far exceeding warming events earlier in the Earth’s history. Between 1901 and 2020, global temperatures rose by 1.98°F (1.1°C), with the 2010s being the warmest decade on record. Nearly universal consensus among scientists points to CO2 emissions caused by the burning of fossil fuels by humans as the primary cause of global warming.\n",
    "\n",
    "Global increases in temperature will affect the Earth in a myriad of ways. Global sea levels will increase due to the melting of glaciers, Greenland and Antarctica ice sheets, and Arctic sea ice. Heat waves and droughts will occur more frequently and more severely, leading to increasingly intense wildfires and desertification. Consequently, these droughts will increase the amount of water vapor in the atmosphere, leading some areas to experience more intense precipitation and flooding.\n",
    "\n",
    "It is incredibly important to study and address the effects of global warming, as human suffering will be increasingly widespread. Increasingly severe weather events will not only damage critical infrastructure, but will result in injuries, death, and the spread of disease. Higher temperatures will not only put crops and bodies of freshwater at risk, but will also prevent humans from working outdoors as the wet-bulb temperature will stop our bodies from adequately cooling. Lastly, climate change will hit poor countries more severely since many poor communities rely more on subsistence agriculture, which will result in mass displacement and famine.\n",
    "\n",
    "This tutorial will cover the data science lifecycle, which will allow us to analyze the data and science regarding climate change and its consequences. There will be five major sections:\n",
    "\n",
    "1. [Data Collection](#data-collection)\n",
    "2. [Data Processing](#data-processing)\n",
    "3. [Exploratory Analysis and Data Visualization](#exploratory-analysis-and-data-visualization)\n",
    "4. [Model: Analysis, Hypothesis Testing, and Machine Learning](#model-analysis-hypothesis-testing-and-machine-learning)\n",
    "5. [Interpretation: Insight and Policy Decision](#interpretation-insight-and-policy-decision)\n"
   ]
  },
  {
   "cell_type": "markdown",
   "metadata": {},
   "source": [
    "## Data Collection\n",
    "\n"
   ]
  },
  {
   "cell_type": "code",
   "execution_count": 32,
   "metadata": {},
   "outputs": [],
   "source": [
    "import numpy as np\n",
    "import pandas as pd\n",
    "import matplotlib.pyplot as plt"
   ]
  },
  {
   "cell_type": "markdown",
   "metadata": {},
   "source": [
    "## Data Processing"
   ]
  },
  {
   "cell_type": "code",
   "execution_count": 33,
   "metadata": {},
   "outputs": [],
   "source": [
    "def remove_monthly_CO2_columns(monthly_co2):\n",
    "    del monthly_co2['ObjectId']\n",
    "    del monthly_co2['Country']\n",
    "    del monthly_co2['ISO2']\n",
    "    del monthly_co2['ISO3']\n",
    "    del monthly_co2['Indicator']\n",
    "    del monthly_co2['Unit']\n",
    "    del monthly_co2['Source']\n",
    "    del monthly_co2['CTS_Name']\n",
    "    del monthly_co2['CTS_Full_Descriptor']\n",
    "    del monthly_co2['CTS_Code']\n",
    "    return monthly_co2"
   ]
  },
  {
   "cell_type": "code",
   "execution_count": 34,
   "metadata": {},
   "outputs": [],
   "source": [
    "def extract_monthly_CO2_percents(monthly_co2):\n",
    "    print(\"hello\")"
   ]
  },
  {
   "cell_type": "code",
   "execution_count": 35,
   "metadata": {},
   "outputs": [
    {
     "name": "stdout",
     "output_type": "stream",
     "text": [
      "       Date   Value\n",
      "0   1958M03  315.70\n",
      "1   1958M04  317.45\n",
      "2   1958M05  317.51\n",
      "3   1958M06  317.24\n",
      "4   1958M07  315.86\n",
      "5   1958M08  314.93\n",
      "6   1958M09  313.20\n",
      "7   1958M10  312.43\n",
      "8   1958M11  313.33\n",
      "9   1958M12  314.67\n",
      "10  1959M01  315.58\n",
      "11  1959M02  316.48\n",
      "12  1959M03  316.65\n",
      "13  1959M03    0.30\n",
      "14  1959M04  317.72\n",
      "15  1959M04    0.09\n",
      "16  1959M05  318.29\n",
      "17  1959M05    0.25\n",
      "18  1959M06  318.15\n",
      "19  1959M06    0.29\n"
     ]
    }
   ],
   "source": [
    "# Monthly CO2 readings\n",
    "monthly_co2 = pd.read_csv(\"Atmospheric_CO2_Concentrations.csv\")\n",
    "monthly_co2 = remove_monthly_CO2_columns(monthly_co2)\n",
    "print(monthly_co2.head(20))"
   ]
  },
  {
   "cell_type": "markdown",
   "metadata": {},
   "source": [
    "## Exploratory Analysis and Data Visualization"
   ]
  },
  {
   "cell_type": "markdown",
   "metadata": {},
   "source": [
    "## Model: Analysis, Hypothesis Testing, and Machine Learning"
   ]
  },
  {
   "cell_type": "markdown",
   "metadata": {},
   "source": [
    "## Interpretation: Insight and Policy Decision"
   ]
  },
  {
   "cell_type": "code",
   "execution_count": 36,
   "metadata": {},
   "outputs": [],
   "source": [
    "# Ice Sheets"
   ]
  }
 ],
 "metadata": {
  "kernelspec": {
   "display_name": "Python 3 (ipykernel)",
   "language": "python",
   "name": "python3"
  },
  "language_info": {
   "codemirror_mode": {
    "name": "ipython",
    "version": 3
   },
   "file_extension": ".py",
   "mimetype": "text/x-python",
   "name": "python",
   "nbconvert_exporter": "python",
   "pygments_lexer": "ipython3",
   "version": "3.9.13"
  }
 },
 "nbformat": 4,
 "nbformat_minor": 2
}
